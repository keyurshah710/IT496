{
  "nbformat": 4,
  "nbformat_minor": 0,
  "metadata": {
    "colab": {
      "provenance": [],
      "mount_file_id": "1GQ-0ps7RlRAFCXIKVS-ohVfrqbL3AzVq",
      "authorship_tag": "ABX9TyM4znYtN6V4OQhcDuCMcEDo",
      "include_colab_link": true
    },
    "kernelspec": {
      "name": "python3",
      "display_name": "Python 3"
    },
    "language_info": {
      "name": "python"
    }
  },
  "cells": [
    {
      "cell_type": "markdown",
      "metadata": {
        "id": "view-in-github",
        "colab_type": "text"
      },
      "source": [
        "<a href=\"https://colab.research.google.com/github/keyurshah710/IT496/blob/main/Transactions.ipynb\" target=\"_parent\"><img src=\"https://colab.research.google.com/assets/colab-badge.svg\" alt=\"Open In Colab\"/></a>"
      ]
    },
    {
      "cell_type": "code",
      "execution_count": 25,
      "metadata": {
        "id": "Olzmz0Ztwoyl"
      },
      "outputs": [],
      "source": [
        "import numpy as np\n",
        "import pandas as pd\n",
        "from mlxtend.frequent_patterns import apriori, association_rules"
      ]
    },
    {
      "cell_type": "code",
      "source": [
        "# loading data\n",
        "data=pd.read_excel('/content/drive/MyDrive/IT496/Online Retail.xlsx')\n",
        "data.head()\n"
      ],
      "metadata": {
        "colab": {
          "base_uri": "https://localhost:8080/",
          "height": 206
        },
        "id": "NVbvnRM3xFVT",
        "outputId": "9ef5b981-2f5f-4df8-ef48-7694098b5fc0"
      },
      "execution_count": 23,
      "outputs": [
        {
          "output_type": "execute_result",
          "data": {
            "text/plain": [
              "  InvoiceNo StockCode                          Description  Quantity  \\\n",
              "0    536365    85123A   WHITE HANGING HEART T-LIGHT HOLDER         6   \n",
              "1    536365     71053                  WHITE METAL LANTERN         6   \n",
              "2    536365    84406B       CREAM CUPID HEARTS COAT HANGER         8   \n",
              "3    536365    84029G  KNITTED UNION FLAG HOT WATER BOTTLE         6   \n",
              "4    536365    84029E       RED WOOLLY HOTTIE WHITE HEART.         6   \n",
              "\n",
              "          InvoiceDate  UnitPrice  CustomerID         Country  \n",
              "0 2010-12-01 08:26:00       2.55     17850.0  United Kingdom  \n",
              "1 2010-12-01 08:26:00       3.39     17850.0  United Kingdom  \n",
              "2 2010-12-01 08:26:00       2.75     17850.0  United Kingdom  \n",
              "3 2010-12-01 08:26:00       3.39     17850.0  United Kingdom  \n",
              "4 2010-12-01 08:26:00       3.39     17850.0  United Kingdom  "
            ],
            "text/html": [
              "\n",
              "  <div id=\"df-91b6ff40-cfab-482c-b06f-b5c601e25628\">\n",
              "    <div class=\"colab-df-container\">\n",
              "      <div>\n",
              "<style scoped>\n",
              "    .dataframe tbody tr th:only-of-type {\n",
              "        vertical-align: middle;\n",
              "    }\n",
              "\n",
              "    .dataframe tbody tr th {\n",
              "        vertical-align: top;\n",
              "    }\n",
              "\n",
              "    .dataframe thead th {\n",
              "        text-align: right;\n",
              "    }\n",
              "</style>\n",
              "<table border=\"1\" class=\"dataframe\">\n",
              "  <thead>\n",
              "    <tr style=\"text-align: right;\">\n",
              "      <th></th>\n",
              "      <th>InvoiceNo</th>\n",
              "      <th>StockCode</th>\n",
              "      <th>Description</th>\n",
              "      <th>Quantity</th>\n",
              "      <th>InvoiceDate</th>\n",
              "      <th>UnitPrice</th>\n",
              "      <th>CustomerID</th>\n",
              "      <th>Country</th>\n",
              "    </tr>\n",
              "  </thead>\n",
              "  <tbody>\n",
              "    <tr>\n",
              "      <th>0</th>\n",
              "      <td>536365</td>\n",
              "      <td>85123A</td>\n",
              "      <td>WHITE HANGING HEART T-LIGHT HOLDER</td>\n",
              "      <td>6</td>\n",
              "      <td>2010-12-01 08:26:00</td>\n",
              "      <td>2.55</td>\n",
              "      <td>17850.0</td>\n",
              "      <td>United Kingdom</td>\n",
              "    </tr>\n",
              "    <tr>\n",
              "      <th>1</th>\n",
              "      <td>536365</td>\n",
              "      <td>71053</td>\n",
              "      <td>WHITE METAL LANTERN</td>\n",
              "      <td>6</td>\n",
              "      <td>2010-12-01 08:26:00</td>\n",
              "      <td>3.39</td>\n",
              "      <td>17850.0</td>\n",
              "      <td>United Kingdom</td>\n",
              "    </tr>\n",
              "    <tr>\n",
              "      <th>2</th>\n",
              "      <td>536365</td>\n",
              "      <td>84406B</td>\n",
              "      <td>CREAM CUPID HEARTS COAT HANGER</td>\n",
              "      <td>8</td>\n",
              "      <td>2010-12-01 08:26:00</td>\n",
              "      <td>2.75</td>\n",
              "      <td>17850.0</td>\n",
              "      <td>United Kingdom</td>\n",
              "    </tr>\n",
              "    <tr>\n",
              "      <th>3</th>\n",
              "      <td>536365</td>\n",
              "      <td>84029G</td>\n",
              "      <td>KNITTED UNION FLAG HOT WATER BOTTLE</td>\n",
              "      <td>6</td>\n",
              "      <td>2010-12-01 08:26:00</td>\n",
              "      <td>3.39</td>\n",
              "      <td>17850.0</td>\n",
              "      <td>United Kingdom</td>\n",
              "    </tr>\n",
              "    <tr>\n",
              "      <th>4</th>\n",
              "      <td>536365</td>\n",
              "      <td>84029E</td>\n",
              "      <td>RED WOOLLY HOTTIE WHITE HEART.</td>\n",
              "      <td>6</td>\n",
              "      <td>2010-12-01 08:26:00</td>\n",
              "      <td>3.39</td>\n",
              "      <td>17850.0</td>\n",
              "      <td>United Kingdom</td>\n",
              "    </tr>\n",
              "  </tbody>\n",
              "</table>\n",
              "</div>\n",
              "      <button class=\"colab-df-convert\" onclick=\"convertToInteractive('df-91b6ff40-cfab-482c-b06f-b5c601e25628')\"\n",
              "              title=\"Convert this dataframe to an interactive table.\"\n",
              "              style=\"display:none;\">\n",
              "        \n",
              "  <svg xmlns=\"http://www.w3.org/2000/svg\" height=\"24px\"viewBox=\"0 0 24 24\"\n",
              "       width=\"24px\">\n",
              "    <path d=\"M0 0h24v24H0V0z\" fill=\"none\"/>\n",
              "    <path d=\"M18.56 5.44l.94 2.06.94-2.06 2.06-.94-2.06-.94-.94-2.06-.94 2.06-2.06.94zm-11 1L8.5 8.5l.94-2.06 2.06-.94-2.06-.94L8.5 2.5l-.94 2.06-2.06.94zm10 10l.94 2.06.94-2.06 2.06-.94-2.06-.94-.94-2.06-.94 2.06-2.06.94z\"/><path d=\"M17.41 7.96l-1.37-1.37c-.4-.4-.92-.59-1.43-.59-.52 0-1.04.2-1.43.59L10.3 9.45l-7.72 7.72c-.78.78-.78 2.05 0 2.83L4 21.41c.39.39.9.59 1.41.59.51 0 1.02-.2 1.41-.59l7.78-7.78 2.81-2.81c.8-.78.8-2.07 0-2.86zM5.41 20L4 18.59l7.72-7.72 1.47 1.35L5.41 20z\"/>\n",
              "  </svg>\n",
              "      </button>\n",
              "      \n",
              "  <style>\n",
              "    .colab-df-container {\n",
              "      display:flex;\n",
              "      flex-wrap:wrap;\n",
              "      gap: 12px;\n",
              "    }\n",
              "\n",
              "    .colab-df-convert {\n",
              "      background-color: #E8F0FE;\n",
              "      border: none;\n",
              "      border-radius: 50%;\n",
              "      cursor: pointer;\n",
              "      display: none;\n",
              "      fill: #1967D2;\n",
              "      height: 32px;\n",
              "      padding: 0 0 0 0;\n",
              "      width: 32px;\n",
              "    }\n",
              "\n",
              "    .colab-df-convert:hover {\n",
              "      background-color: #E2EBFA;\n",
              "      box-shadow: 0px 1px 2px rgba(60, 64, 67, 0.3), 0px 1px 3px 1px rgba(60, 64, 67, 0.15);\n",
              "      fill: #174EA6;\n",
              "    }\n",
              "\n",
              "    [theme=dark] .colab-df-convert {\n",
              "      background-color: #3B4455;\n",
              "      fill: #D2E3FC;\n",
              "    }\n",
              "\n",
              "    [theme=dark] .colab-df-convert:hover {\n",
              "      background-color: #434B5C;\n",
              "      box-shadow: 0px 1px 3px 1px rgba(0, 0, 0, 0.15);\n",
              "      filter: drop-shadow(0px 1px 2px rgba(0, 0, 0, 0.3));\n",
              "      fill: #FFFFFF;\n",
              "    }\n",
              "  </style>\n",
              "\n",
              "      <script>\n",
              "        const buttonEl =\n",
              "          document.querySelector('#df-91b6ff40-cfab-482c-b06f-b5c601e25628 button.colab-df-convert');\n",
              "        buttonEl.style.display =\n",
              "          google.colab.kernel.accessAllowed ? 'block' : 'none';\n",
              "\n",
              "        async function convertToInteractive(key) {\n",
              "          const element = document.querySelector('#df-91b6ff40-cfab-482c-b06f-b5c601e25628');\n",
              "          const dataTable =\n",
              "            await google.colab.kernel.invokeFunction('convertToInteractive',\n",
              "                                                     [key], {});\n",
              "          if (!dataTable) return;\n",
              "\n",
              "          const docLinkHtml = 'Like what you see? Visit the ' +\n",
              "            '<a target=\"_blank\" href=https://colab.research.google.com/notebooks/data_table.ipynb>data table notebook</a>'\n",
              "            + ' to learn more about interactive tables.';\n",
              "          element.innerHTML = '';\n",
              "          dataTable['output_type'] = 'display_data';\n",
              "          await google.colab.output.renderOutput(dataTable, element);\n",
              "          const docLink = document.createElement('div');\n",
              "          docLink.innerHTML = docLinkHtml;\n",
              "          element.appendChild(docLink);\n",
              "        }\n",
              "      </script>\n",
              "    </div>\n",
              "  </div>\n",
              "  "
            ]
          },
          "metadata": {},
          "execution_count": 23
        }
      ]
    },
    {
      "cell_type": "code",
      "source": [
        "data.columns\n"
      ],
      "metadata": {
        "colab": {
          "base_uri": "https://localhost:8080/"
        },
        "id": "qarxd_oD2GlS",
        "outputId": "f264aaa1-7cc1-4a5e-a120-1482cdc7b5f8"
      },
      "execution_count": 26,
      "outputs": [
        {
          "output_type": "execute_result",
          "data": {
            "text/plain": [
              "Index(['InvoiceNo', 'StockCode', 'Description', 'Quantity', 'InvoiceDate',\n",
              "       'UnitPrice', 'CustomerID', 'Country'],\n",
              "      dtype='object')"
            ]
          },
          "metadata": {},
          "execution_count": 26
        }
      ]
    },
    {
      "cell_type": "code",
      "source": [
        "#exploring the different regions of transactions\n",
        "data.Country.unique()\n"
      ],
      "metadata": {
        "colab": {
          "base_uri": "https://localhost:8080/"
        },
        "id": "t7zrqPvV2Jry",
        "outputId": "e4212b0f-0b42-42ca-8cb8-16ad177acdbb"
      },
      "execution_count": 27,
      "outputs": [
        {
          "output_type": "execute_result",
          "data": {
            "text/plain": [
              "array(['United Kingdom', 'France', 'Australia', 'Netherlands', 'Germany',\n",
              "       'Norway', 'EIRE', 'Switzerland', 'Spain', 'Poland', 'Portugal',\n",
              "       'Italy', 'Belgium', 'Lithuania', 'Japan', 'Iceland',\n",
              "       'Channel Islands', 'Denmark', 'Cyprus', 'Sweden', 'Austria',\n",
              "       'Israel', 'Finland', 'Bahrain', 'Greece', 'Hong Kong', 'Singapore',\n",
              "       'Lebanon', 'United Arab Emirates', 'Saudi Arabia',\n",
              "       'Czech Republic', 'Canada', 'Unspecified', 'Brazil', 'USA',\n",
              "       'European Community', 'Malta', 'RSA'], dtype=object)"
            ]
          },
          "metadata": {},
          "execution_count": 27
        }
      ]
    },
    {
      "cell_type": "code",
      "source": [
        "#stripping extra spces in the description\n",
        "data['Description']=data['Description'].str.strip()\n",
        "\n",
        "#dropping the rows without any invoices number\n",
        "data.dropna(axis=0,subset=['InvoiceNo'],inplace=True)\n",
        "data['InvoiceNo']= data['InvoiceNo'].astype('str')\n",
        "\n",
        "#dropping all transactions which were done on credit\n",
        "data=data[~data['InvoiceNo'].str.contains('C')]"
      ],
      "metadata": {
        "id": "_5eNmg2r2UBn"
      },
      "execution_count": 28,
      "outputs": []
    },
    {
      "cell_type": "code",
      "source": [
        "basket_France=(data[data['Country']=='France']\n",
        "               .groupby(['InvoiceNo','Description'])['Quantity']\n",
        "               .sum().unstack().reset_index().fillna(0)\n",
        "               .set_index('InvoiceNo'))\n",
        "\n",
        "def hot_encode(x):\n",
        "  if(x<= 0):\n",
        "    return 0\n",
        "    if(x>= 1):\n",
        "      return 1\n",
        "\n",
        "      basket_encoded=basket_France.applymap(hot_encode)\n",
        "      basket_France=basket_encoded"
      ],
      "metadata": {
        "id": "IPn37cA07l5O"
      },
      "execution_count": 58,
      "outputs": []
    },
    {
      "cell_type": "code",
      "source": [
        "frq_items=apriori(basket_France,min_support=0.05, use_colnames=True)\n"
      ],
      "metadata": {
        "id": "vkK3BZ7HCaFR"
      },
      "execution_count": 46,
      "outputs": []
    },
    {
      "cell_type": "code",
      "source": [
        "# Dropping the rows without any invoice number\n",
        "data.dropna(axis = 0, subset =['InvoiceNo'], inplace = True)\n",
        "data['InvoiceNo'] = data['InvoiceNo'].astype('str')\n"
      ],
      "metadata": {
        "id": "gertYr6lF90X"
      },
      "execution_count": 45,
      "outputs": []
    },
    {
      "cell_type": "code",
      "source": [
        "rules=association_rules(frq_items,metric='lift', min_threshold=1)\n",
        "rules=rules.sort_values(['confidence','lift'], ascending=[False,False])\n",
        "print(basket_France)\n"
      ],
      "metadata": {
        "colab": {
          "base_uri": "https://localhost:8080/"
        },
        "id": "YrmIi55WDy6C",
        "outputId": "a7456305-70a1-4f6e-db09-6e4bde69443b"
      },
      "execution_count": 53,
      "outputs": [
        {
          "output_type": "stream",
          "name": "stdout",
          "text": [
            "Description  10 COLOUR SPACEBOY PEN  12 COLOURED PARTY BALLOONS  \\\n",
            "InvoiceNo                                                         \n",
            "536370                            0                           0   \n",
            "536852                            0                           0   \n",
            "536974                            0                           0   \n",
            "537065                            0                           0   \n",
            "537463                            0                           0   \n",
            "...                             ...                         ...   \n",
            "580986                            0                           0   \n",
            "581001                            0                           0   \n",
            "581171                            0                           0   \n",
            "581279                            0                           0   \n",
            "581587                            0                           0   \n",
            "\n",
            "Description  12 EGG HOUSE PAINTED WOOD  12 MESSAGE CARDS WITH ENVELOPES  \\\n",
            "InvoiceNo                                                                 \n",
            "536370                               0                                0   \n",
            "536852                               0                                0   \n",
            "536974                               0                                0   \n",
            "537065                               0                                0   \n",
            "537463                               0                                0   \n",
            "...                                ...                              ...   \n",
            "580986                               0                                0   \n",
            "581001                               0                                0   \n",
            "581171                               0                                0   \n",
            "581279                               0                                0   \n",
            "581587                               0                                0   \n",
            "\n",
            "Description  12 PENCIL SMALL TUBE WOODLAND  \\\n",
            "InvoiceNo                                    \n",
            "536370                                   0   \n",
            "536852                                   0   \n",
            "536974                                   0   \n",
            "537065                                   0   \n",
            "537463                                   0   \n",
            "...                                    ...   \n",
            "580986                                   0   \n",
            "581001                                   0   \n",
            "581171                                   0   \n",
            "581279                                   0   \n",
            "581587                                   0   \n",
            "\n",
            "Description  12 PENCILS SMALL TUBE RED RETROSPOT  12 PENCILS SMALL TUBE SKULL  \\\n",
            "InvoiceNo                                                                       \n",
            "536370                                         0                            0   \n",
            "536852                                         0                            0   \n",
            "536974                                         0                            0   \n",
            "537065                                         0                            0   \n",
            "537463                                         0                            0   \n",
            "...                                          ...                          ...   \n",
            "580986                                         0                            0   \n",
            "581001                                         0                            0   \n",
            "581171                                         0                            0   \n",
            "581279                                         0                            0   \n",
            "581587                                         0                            0   \n",
            "\n",
            "Description  12 PENCILS TALL TUBE POSY  12 PENCILS TALL TUBE RED RETROSPOT  \\\n",
            "InvoiceNo                                                                    \n",
            "536370                               0                                   0   \n",
            "536852                               0                                   0   \n",
            "536974                               0                                   0   \n",
            "537065                               0                                   0   \n",
            "537463                               0                                   0   \n",
            "...                                ...                                 ...   \n",
            "580986                               0                                   0   \n",
            "581001                               0                                   0   \n",
            "581171                               0                                   0   \n",
            "581279                               0                                   0   \n",
            "581587                               0                                   0   \n",
            "\n",
            "Description  12 PENCILS TALL TUBE WOODLAND  ...  WRAP VINTAGE PETALS  DESIGN  \\\n",
            "InvoiceNo                                   ...                                \n",
            "536370                                   0  ...                            0   \n",
            "536852                                   0  ...                            0   \n",
            "536974                                   0  ...                            0   \n",
            "537065                                   0  ...                            0   \n",
            "537463                                   0  ...                            0   \n",
            "...                                    ...  ...                          ...   \n",
            "580986                                   0  ...                            0   \n",
            "581001                                   0  ...                            0   \n",
            "581171                                   0  ...                            0   \n",
            "581279                                   0  ...                            0   \n",
            "581587                                   0  ...                            0   \n",
            "\n",
            "Description  YELLOW COAT RACK PARIS FASHION  YELLOW GIANT GARDEN THERMOMETER  \\\n",
            "InvoiceNo                                                                      \n",
            "536370                                    0                                0   \n",
            "536852                                    0                                0   \n",
            "536974                                    0                                0   \n",
            "537065                                    0                                0   \n",
            "537463                                    0                                0   \n",
            "...                                     ...                              ...   \n",
            "580986                                    0                                0   \n",
            "581001                                    0                                0   \n",
            "581171                                    0                                0   \n",
            "581279                                    0                                0   \n",
            "581587                                    0                                0   \n",
            "\n",
            "Description  YELLOW SHARK HELICOPTER  ZINC  STAR T-LIGHT HOLDER  \\\n",
            "InvoiceNo                                                         \n",
            "536370                             0                          0   \n",
            "536852                             0                          0   \n",
            "536974                             0                          0   \n",
            "537065                             0                          0   \n",
            "537463                             0                          0   \n",
            "...                              ...                        ...   \n",
            "580986                             0                          0   \n",
            "581001                             0                          0   \n",
            "581171                             0                          0   \n",
            "581279                             0                          0   \n",
            "581587                             0                          0   \n",
            "\n",
            "Description  ZINC FOLKART SLEIGH BELLS  ZINC HERB GARDEN CONTAINER  \\\n",
            "InvoiceNo                                                            \n",
            "536370                               0                           0   \n",
            "536852                               0                           0   \n",
            "536974                               0                           0   \n",
            "537065                               0                           0   \n",
            "537463                               0                           0   \n",
            "...                                ...                         ...   \n",
            "580986                               0                           0   \n",
            "581001                               0                           0   \n",
            "581171                               0                           0   \n",
            "581279                               0                           0   \n",
            "581587                               0                           0   \n",
            "\n",
            "Description  ZINC METAL HEART DECORATION  ZINC T-LIGHT HOLDER STAR LARGE  \\\n",
            "InvoiceNo                                                                  \n",
            "536370                                 0                               0   \n",
            "536852                                 0                               0   \n",
            "536974                                 0                               0   \n",
            "537065                                 0                               0   \n",
            "537463                                 0                               0   \n",
            "...                                  ...                             ...   \n",
            "580986                                 0                               0   \n",
            "581001                                 0                               0   \n",
            "581171                                 0                               0   \n",
            "581279                                 0                               0   \n",
            "581587                                 0                               0   \n",
            "\n",
            "Description  ZINC T-LIGHT HOLDER STARS SMALL  \n",
            "InvoiceNo                                     \n",
            "536370                                     0  \n",
            "536852                                     0  \n",
            "536974                                     0  \n",
            "537065                                     0  \n",
            "537463                                     0  \n",
            "...                                      ...  \n",
            "580986                                     0  \n",
            "581001                                     0  \n",
            "581171                                     0  \n",
            "581279                                     0  \n",
            "581587                                     0  \n",
            "\n",
            "[392 rows x 1563 columns]\n"
          ]
        }
      ]
    },
    {
      "cell_type": "code",
      "source": [
        "print(rules.head(10))"
      ],
      "metadata": {
        "colab": {
          "base_uri": "https://localhost:8080/"
        },
        "id": "kmfQaErQJZQK",
        "outputId": "a193e767-db34-496d-ea64-d10c76880c77"
      },
      "execution_count": 57,
      "outputs": [
        {
          "output_type": "stream",
          "name": "stdout",
          "text": [
            "                                           antecedents  \\\n",
            "44                        (JUMBO BAG WOODLAND ANIMALS)   \n",
            "258  (PLASTERS IN TIN CIRCUS PARADE, RED TOADSTOOL ...   \n",
            "270  (PLASTERS IN TIN WOODLAND ANIMALS, RED TOADSTO...   \n",
            "300  (SET/6 RED SPOTTY PAPER CUPS, SET/20 RED RETRO...   \n",
            "302  (SET/6 RED SPOTTY PAPER PLATES, SET/20 RED RET...   \n",
            "335  (SET/6 RED SPOTTY PAPER CUPS, SET/20 RED RETRO...   \n",
            "337  (SET/6 RED SPOTTY PAPER PLATES, SET/20 RED RET...   \n",
            "128                         (RED RETROSPOT PICNIC BAG)   \n",
            "142                    (SET OF 9 BLACK SKULL BALLOONS)   \n",
            "175                    (SET/6 RED SPOTTY PAPER PLATES)   \n",
            "\n",
            "                         consequents  antecedent support  consequent support  \\\n",
            "44                         (POSTAGE)            0.076531            0.765306   \n",
            "258                        (POSTAGE)            0.051020            0.765306   \n",
            "270                        (POSTAGE)            0.053571            0.765306   \n",
            "300  (SET/6 RED SPOTTY PAPER PLATES)            0.102041            0.127551   \n",
            "302    (SET/6 RED SPOTTY PAPER CUPS)            0.102041            0.137755   \n",
            "335  (SET/6 RED SPOTTY PAPER PLATES)            0.084184            0.127551   \n",
            "337    (SET/6 RED SPOTTY PAPER CUPS)            0.084184            0.137755   \n",
            "128                        (POSTAGE)            0.071429            0.765306   \n",
            "142                        (POSTAGE)            0.066327            0.765306   \n",
            "175    (SET/6 RED SPOTTY PAPER CUPS)            0.127551            0.137755   \n",
            "\n",
            "      support  confidence      lift  leverage  conviction  \n",
            "44   0.076531    1.000000  1.306667  0.017961         inf  \n",
            "258  0.051020    1.000000  1.306667  0.011974         inf  \n",
            "270  0.053571    1.000000  1.306667  0.012573         inf  \n",
            "300  0.099490    0.975000  7.644000  0.086474   34.897959  \n",
            "302  0.099490    0.975000  7.077778  0.085433   34.489796  \n",
            "335  0.081633    0.969697  7.602424  0.070895   28.790816  \n",
            "337  0.081633    0.969697  7.039282  0.070036   28.454082  \n",
            "128  0.068878    0.964286  1.260000  0.014213    6.571429  \n",
            "142  0.063776    0.961538  1.256410  0.013015    6.102041  \n",
            "175  0.122449    0.960000  6.968889  0.104878   21.556122  \n"
          ]
        }
      ]
    }
  ]
}